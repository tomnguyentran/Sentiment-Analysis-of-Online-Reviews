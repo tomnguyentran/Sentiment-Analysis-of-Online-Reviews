{
 "cells": [
  {
   "cell_type": "code",
   "execution_count": 1,
   "source": [
    "from nltk.corpus import stopwords\n",
    "import nltk\n",
    "import pandas as pd\n",
    "import numpy as np\n",
    "from nltk.tokenize import word_tokenize\n",
    "from nltk.stem import WordNetLemmatizer\n",
    "from nltk.sentiment import SentimentIntensityAnalyzer\n",
    "from sklearn.metrics import accuracy_score\n",
    "from sklearn.model_selection import train_test_split\n",
    "from sklearn.feature_extraction.text import TfidfVectorizer\n",
    "from sklearn.linear_model import LogisticRegression\n",
    "from scipy.sparse import hstack"
   ],
   "outputs": [],
   "metadata": {}
  },
  {
   "cell_type": "code",
   "execution_count": 582,
   "source": [
    "df = pd.read_table('amazon_alexa.tsv', sep = '\\t')\n",
    "df"
   ],
   "outputs": [
    {
     "output_type": "execute_result",
     "data": {
      "text/html": [
       "<div>\n",
       "<style scoped>\n",
       "    .dataframe tbody tr th:only-of-type {\n",
       "        vertical-align: middle;\n",
       "    }\n",
       "\n",
       "    .dataframe tbody tr th {\n",
       "        vertical-align: top;\n",
       "    }\n",
       "\n",
       "    .dataframe thead th {\n",
       "        text-align: right;\n",
       "    }\n",
       "</style>\n",
       "<table border=\"1\" class=\"dataframe\">\n",
       "  <thead>\n",
       "    <tr style=\"text-align: right;\">\n",
       "      <th></th>\n",
       "      <th>rating</th>\n",
       "      <th>date</th>\n",
       "      <th>variation</th>\n",
       "      <th>verified_reviews</th>\n",
       "      <th>feedback</th>\n",
       "    </tr>\n",
       "  </thead>\n",
       "  <tbody>\n",
       "    <tr>\n",
       "      <th>0</th>\n",
       "      <td>5</td>\n",
       "      <td>31-Jul-18</td>\n",
       "      <td>Charcoal Fabric</td>\n",
       "      <td>Love my Echo!</td>\n",
       "      <td>1</td>\n",
       "    </tr>\n",
       "    <tr>\n",
       "      <th>1</th>\n",
       "      <td>5</td>\n",
       "      <td>31-Jul-18</td>\n",
       "      <td>Charcoal Fabric</td>\n",
       "      <td>Loved it!</td>\n",
       "      <td>1</td>\n",
       "    </tr>\n",
       "    <tr>\n",
       "      <th>2</th>\n",
       "      <td>4</td>\n",
       "      <td>31-Jul-18</td>\n",
       "      <td>Walnut Finish</td>\n",
       "      <td>Sometimes while playing a game, you can answer...</td>\n",
       "      <td>1</td>\n",
       "    </tr>\n",
       "    <tr>\n",
       "      <th>3</th>\n",
       "      <td>5</td>\n",
       "      <td>31-Jul-18</td>\n",
       "      <td>Charcoal Fabric</td>\n",
       "      <td>I have had a lot of fun with this thing. My 4 ...</td>\n",
       "      <td>1</td>\n",
       "    </tr>\n",
       "    <tr>\n",
       "      <th>4</th>\n",
       "      <td>5</td>\n",
       "      <td>31-Jul-18</td>\n",
       "      <td>Charcoal Fabric</td>\n",
       "      <td>Music</td>\n",
       "      <td>1</td>\n",
       "    </tr>\n",
       "    <tr>\n",
       "      <th>...</th>\n",
       "      <td>...</td>\n",
       "      <td>...</td>\n",
       "      <td>...</td>\n",
       "      <td>...</td>\n",
       "      <td>...</td>\n",
       "    </tr>\n",
       "    <tr>\n",
       "      <th>3145</th>\n",
       "      <td>5</td>\n",
       "      <td>30-Jul-18</td>\n",
       "      <td>Black  Dot</td>\n",
       "      <td>Perfect for kids, adults and everyone in betwe...</td>\n",
       "      <td>1</td>\n",
       "    </tr>\n",
       "    <tr>\n",
       "      <th>3146</th>\n",
       "      <td>5</td>\n",
       "      <td>30-Jul-18</td>\n",
       "      <td>Black  Dot</td>\n",
       "      <td>Listening to music, searching locations, check...</td>\n",
       "      <td>1</td>\n",
       "    </tr>\n",
       "    <tr>\n",
       "      <th>3147</th>\n",
       "      <td>5</td>\n",
       "      <td>30-Jul-18</td>\n",
       "      <td>Black  Dot</td>\n",
       "      <td>I do love these things, i have them running my...</td>\n",
       "      <td>1</td>\n",
       "    </tr>\n",
       "    <tr>\n",
       "      <th>3148</th>\n",
       "      <td>5</td>\n",
       "      <td>30-Jul-18</td>\n",
       "      <td>White  Dot</td>\n",
       "      <td>Only complaint I have is that the sound qualit...</td>\n",
       "      <td>1</td>\n",
       "    </tr>\n",
       "    <tr>\n",
       "      <th>3149</th>\n",
       "      <td>4</td>\n",
       "      <td>29-Jul-18</td>\n",
       "      <td>Black  Dot</td>\n",
       "      <td>Good</td>\n",
       "      <td>1</td>\n",
       "    </tr>\n",
       "  </tbody>\n",
       "</table>\n",
       "<p>3150 rows × 5 columns</p>\n",
       "</div>"
      ],
      "text/plain": [
       "      rating       date         variation  \\\n",
       "0          5  31-Jul-18  Charcoal Fabric    \n",
       "1          5  31-Jul-18  Charcoal Fabric    \n",
       "2          4  31-Jul-18    Walnut Finish    \n",
       "3          5  31-Jul-18  Charcoal Fabric    \n",
       "4          5  31-Jul-18  Charcoal Fabric    \n",
       "...      ...        ...               ...   \n",
       "3145       5  30-Jul-18        Black  Dot   \n",
       "3146       5  30-Jul-18        Black  Dot   \n",
       "3147       5  30-Jul-18        Black  Dot   \n",
       "3148       5  30-Jul-18        White  Dot   \n",
       "3149       4  29-Jul-18        Black  Dot   \n",
       "\n",
       "                                       verified_reviews  feedback  \n",
       "0                                         Love my Echo!         1  \n",
       "1                                             Loved it!         1  \n",
       "2     Sometimes while playing a game, you can answer...         1  \n",
       "3     I have had a lot of fun with this thing. My 4 ...         1  \n",
       "4                                                 Music         1  \n",
       "...                                                 ...       ...  \n",
       "3145  Perfect for kids, adults and everyone in betwe...         1  \n",
       "3146  Listening to music, searching locations, check...         1  \n",
       "3147  I do love these things, i have them running my...         1  \n",
       "3148  Only complaint I have is that the sound qualit...         1  \n",
       "3149                                               Good         1  \n",
       "\n",
       "[3150 rows x 5 columns]"
      ]
     },
     "metadata": {},
     "execution_count": 582
    }
   ],
   "metadata": {}
  },
  {
   "cell_type": "markdown",
   "source": [
    "Lexicon Based method using VADER"
   ],
   "metadata": {}
  },
  {
   "cell_type": "code",
   "execution_count": 583,
   "source": [
    "lexicon = df.iloc[:, 3:5]\n",
    "lexicon"
   ],
   "outputs": [
    {
     "output_type": "execute_result",
     "data": {
      "text/html": [
       "<div>\n",
       "<style scoped>\n",
       "    .dataframe tbody tr th:only-of-type {\n",
       "        vertical-align: middle;\n",
       "    }\n",
       "\n",
       "    .dataframe tbody tr th {\n",
       "        vertical-align: top;\n",
       "    }\n",
       "\n",
       "    .dataframe thead th {\n",
       "        text-align: right;\n",
       "    }\n",
       "</style>\n",
       "<table border=\"1\" class=\"dataframe\">\n",
       "  <thead>\n",
       "    <tr style=\"text-align: right;\">\n",
       "      <th></th>\n",
       "      <th>verified_reviews</th>\n",
       "      <th>feedback</th>\n",
       "    </tr>\n",
       "  </thead>\n",
       "  <tbody>\n",
       "    <tr>\n",
       "      <th>0</th>\n",
       "      <td>Love my Echo!</td>\n",
       "      <td>1</td>\n",
       "    </tr>\n",
       "    <tr>\n",
       "      <th>1</th>\n",
       "      <td>Loved it!</td>\n",
       "      <td>1</td>\n",
       "    </tr>\n",
       "    <tr>\n",
       "      <th>2</th>\n",
       "      <td>Sometimes while playing a game, you can answer...</td>\n",
       "      <td>1</td>\n",
       "    </tr>\n",
       "    <tr>\n",
       "      <th>3</th>\n",
       "      <td>I have had a lot of fun with this thing. My 4 ...</td>\n",
       "      <td>1</td>\n",
       "    </tr>\n",
       "    <tr>\n",
       "      <th>4</th>\n",
       "      <td>Music</td>\n",
       "      <td>1</td>\n",
       "    </tr>\n",
       "    <tr>\n",
       "      <th>...</th>\n",
       "      <td>...</td>\n",
       "      <td>...</td>\n",
       "    </tr>\n",
       "    <tr>\n",
       "      <th>3145</th>\n",
       "      <td>Perfect for kids, adults and everyone in betwe...</td>\n",
       "      <td>1</td>\n",
       "    </tr>\n",
       "    <tr>\n",
       "      <th>3146</th>\n",
       "      <td>Listening to music, searching locations, check...</td>\n",
       "      <td>1</td>\n",
       "    </tr>\n",
       "    <tr>\n",
       "      <th>3147</th>\n",
       "      <td>I do love these things, i have them running my...</td>\n",
       "      <td>1</td>\n",
       "    </tr>\n",
       "    <tr>\n",
       "      <th>3148</th>\n",
       "      <td>Only complaint I have is that the sound qualit...</td>\n",
       "      <td>1</td>\n",
       "    </tr>\n",
       "    <tr>\n",
       "      <th>3149</th>\n",
       "      <td>Good</td>\n",
       "      <td>1</td>\n",
       "    </tr>\n",
       "  </tbody>\n",
       "</table>\n",
       "<p>3150 rows × 2 columns</p>\n",
       "</div>"
      ],
      "text/plain": [
       "                                       verified_reviews  feedback\n",
       "0                                         Love my Echo!         1\n",
       "1                                             Loved it!         1\n",
       "2     Sometimes while playing a game, you can answer...         1\n",
       "3     I have had a lot of fun with this thing. My 4 ...         1\n",
       "4                                                 Music         1\n",
       "...                                                 ...       ...\n",
       "3145  Perfect for kids, adults and everyone in betwe...         1\n",
       "3146  Listening to music, searching locations, check...         1\n",
       "3147  I do love these things, i have them running my...         1\n",
       "3148  Only complaint I have is that the sound qualit...         1\n",
       "3149                                               Good         1\n",
       "\n",
       "[3150 rows x 2 columns]"
      ]
     },
     "metadata": {},
     "execution_count": 583
    }
   ],
   "metadata": {}
  },
  {
   "cell_type": "markdown",
   "source": [
    "Make the strings all lowercase"
   ],
   "metadata": {}
  },
  {
   "cell_type": "code",
   "execution_count": 584,
   "source": [
    "lexicon['verified_reviews'] = lexicon['verified_reviews'].str.lower()"
   ],
   "outputs": [],
   "metadata": {}
  },
  {
   "cell_type": "markdown",
   "source": [
    "Removing punctuations except !"
   ],
   "metadata": {}
  },
  {
   "cell_type": "code",
   "execution_count": 585,
   "source": [
    "lexicon['verified_reviews'] = lexicon['verified_reviews'].str.replace(r'[^a-zA-Z0-9! ]+', '', regex=True)\n"
   ],
   "outputs": [],
   "metadata": {}
  },
  {
   "cell_type": "markdown",
   "source": [
    "Removing Stop Words"
   ],
   "metadata": {}
  },
  {
   "cell_type": "code",
   "execution_count": 586,
   "source": [
    "stop = stopwords.words('english')"
   ],
   "outputs": [],
   "metadata": {}
  },
  {
   "cell_type": "code",
   "execution_count": 587,
   "source": [
    "lexicon['verified_reviews'] = lexicon['verified_reviews'].apply(lambda x: ' '.join([word for word in x.split() if word not in (stop)]))"
   ],
   "outputs": [],
   "metadata": {}
  },
  {
   "cell_type": "markdown",
   "source": [
    "Lemmatization"
   ],
   "metadata": {}
  },
  {
   "cell_type": "code",
   "execution_count": 588,
   "source": [
    "lemmatizer = WordNetLemmatizer()"
   ],
   "outputs": [],
   "metadata": {}
  },
  {
   "cell_type": "code",
   "execution_count": 589,
   "source": [
    "def lemmatizer_text(text):\n",
    "    tokens = word_tokenize(text)\n",
    "\n",
    "    lemmatized_tokens = [lemmatizer.lemmatize(token) for token in tokens]\n",
    "\n",
    "    return ' '.join(lemmatized_tokens)"
   ],
   "outputs": [],
   "metadata": {}
  },
  {
   "cell_type": "code",
   "execution_count": 590,
   "source": [
    "lexicon['verified_reviews'] = lexicon['verified_reviews'].apply(lemmatizer_text)\n",
    "lexicon"
   ],
   "outputs": [
    {
     "output_type": "execute_result",
     "data": {
      "text/html": [
       "<div>\n",
       "<style scoped>\n",
       "    .dataframe tbody tr th:only-of-type {\n",
       "        vertical-align: middle;\n",
       "    }\n",
       "\n",
       "    .dataframe tbody tr th {\n",
       "        vertical-align: top;\n",
       "    }\n",
       "\n",
       "    .dataframe thead th {\n",
       "        text-align: right;\n",
       "    }\n",
       "</style>\n",
       "<table border=\"1\" class=\"dataframe\">\n",
       "  <thead>\n",
       "    <tr style=\"text-align: right;\">\n",
       "      <th></th>\n",
       "      <th>verified_reviews</th>\n",
       "      <th>feedback</th>\n",
       "    </tr>\n",
       "  </thead>\n",
       "  <tbody>\n",
       "    <tr>\n",
       "      <th>0</th>\n",
       "      <td>love echo !</td>\n",
       "      <td>1</td>\n",
       "    </tr>\n",
       "    <tr>\n",
       "      <th>1</th>\n",
       "      <td>loved it !</td>\n",
       "      <td>1</td>\n",
       "    </tr>\n",
       "    <tr>\n",
       "      <th>2</th>\n",
       "      <td>sometimes playing game answer question correct...</td>\n",
       "      <td>1</td>\n",
       "    </tr>\n",
       "    <tr>\n",
       "      <th>3</th>\n",
       "      <td>lot fun thing 4 yr old learns dinosaur control...</td>\n",
       "      <td>1</td>\n",
       "    </tr>\n",
       "    <tr>\n",
       "      <th>4</th>\n",
       "      <td>music</td>\n",
       "      <td>1</td>\n",
       "    </tr>\n",
       "    <tr>\n",
       "      <th>...</th>\n",
       "      <td>...</td>\n",
       "      <td>...</td>\n",
       "    </tr>\n",
       "    <tr>\n",
       "      <th>3145</th>\n",
       "      <td>perfect kid adult everyone between ! !</td>\n",
       "      <td>1</td>\n",
       "    </tr>\n",
       "    <tr>\n",
       "      <th>3146</th>\n",
       "      <td>listening music searching location checking ti...</td>\n",
       "      <td>1</td>\n",
       "    </tr>\n",
       "    <tr>\n",
       "      <th>3147</th>\n",
       "      <td>love thing running entire home tv light thermo...</td>\n",
       "      <td>1</td>\n",
       "    </tr>\n",
       "    <tr>\n",
       "      <th>3148</th>\n",
       "      <td>complaint sound quality isnt great mostly use ...</td>\n",
       "      <td>1</td>\n",
       "    </tr>\n",
       "    <tr>\n",
       "      <th>3149</th>\n",
       "      <td>good</td>\n",
       "      <td>1</td>\n",
       "    </tr>\n",
       "  </tbody>\n",
       "</table>\n",
       "<p>3150 rows × 2 columns</p>\n",
       "</div>"
      ],
      "text/plain": [
       "                                       verified_reviews  feedback\n",
       "0                                           love echo !         1\n",
       "1                                            loved it !         1\n",
       "2     sometimes playing game answer question correct...         1\n",
       "3     lot fun thing 4 yr old learns dinosaur control...         1\n",
       "4                                                 music         1\n",
       "...                                                 ...       ...\n",
       "3145             perfect kid adult everyone between ! !         1\n",
       "3146  listening music searching location checking ti...         1\n",
       "3147  love thing running entire home tv light thermo...         1\n",
       "3148  complaint sound quality isnt great mostly use ...         1\n",
       "3149                                               good         1\n",
       "\n",
       "[3150 rows x 2 columns]"
      ]
     },
     "metadata": {},
     "execution_count": 590
    }
   ],
   "metadata": {}
  },
  {
   "cell_type": "markdown",
   "source": [
    "Applying VADER"
   ],
   "metadata": {}
  },
  {
   "cell_type": "code",
   "execution_count": 591,
   "source": [
    "sia = SentimentIntensityAnalyzer()"
   ],
   "outputs": [],
   "metadata": {}
  },
  {
   "cell_type": "code",
   "execution_count": 592,
   "source": [
    "def compound_sentiment_score(text):\n",
    "    text = sia.polarity_scores(text)\n",
    "    return text['compound']"
   ],
   "outputs": [],
   "metadata": {}
  },
  {
   "cell_type": "code",
   "execution_count": 593,
   "source": [
    "lexicon['compound_sentiment_score'] = lexicon['verified_reviews'].apply(compound_sentiment_score)\n",
    "lexicon"
   ],
   "outputs": [
    {
     "output_type": "execute_result",
     "data": {
      "text/html": [
       "<div>\n",
       "<style scoped>\n",
       "    .dataframe tbody tr th:only-of-type {\n",
       "        vertical-align: middle;\n",
       "    }\n",
       "\n",
       "    .dataframe tbody tr th {\n",
       "        vertical-align: top;\n",
       "    }\n",
       "\n",
       "    .dataframe thead th {\n",
       "        text-align: right;\n",
       "    }\n",
       "</style>\n",
       "<table border=\"1\" class=\"dataframe\">\n",
       "  <thead>\n",
       "    <tr style=\"text-align: right;\">\n",
       "      <th></th>\n",
       "      <th>verified_reviews</th>\n",
       "      <th>feedback</th>\n",
       "      <th>compound_sentiment_score</th>\n",
       "    </tr>\n",
       "  </thead>\n",
       "  <tbody>\n",
       "    <tr>\n",
       "      <th>0</th>\n",
       "      <td>love echo !</td>\n",
       "      <td>1</td>\n",
       "      <td>0.6696</td>\n",
       "    </tr>\n",
       "    <tr>\n",
       "      <th>1</th>\n",
       "      <td>loved it !</td>\n",
       "      <td>1</td>\n",
       "      <td>0.6360</td>\n",
       "    </tr>\n",
       "    <tr>\n",
       "      <th>2</th>\n",
       "      <td>sometimes playing game answer question correct...</td>\n",
       "      <td>1</td>\n",
       "      <td>0.0516</td>\n",
       "    </tr>\n",
       "    <tr>\n",
       "      <th>3</th>\n",
       "      <td>lot fun thing 4 yr old learns dinosaur control...</td>\n",
       "      <td>1</td>\n",
       "      <td>0.9169</td>\n",
       "    </tr>\n",
       "    <tr>\n",
       "      <th>4</th>\n",
       "      <td>music</td>\n",
       "      <td>1</td>\n",
       "      <td>0.0000</td>\n",
       "    </tr>\n",
       "    <tr>\n",
       "      <th>...</th>\n",
       "      <td>...</td>\n",
       "      <td>...</td>\n",
       "      <td>...</td>\n",
       "    </tr>\n",
       "    <tr>\n",
       "      <th>3145</th>\n",
       "      <td>perfect kid adult everyone between ! !</td>\n",
       "      <td>1</td>\n",
       "      <td>0.6467</td>\n",
       "    </tr>\n",
       "    <tr>\n",
       "      <th>3146</th>\n",
       "      <td>listening music searching location checking ti...</td>\n",
       "      <td>1</td>\n",
       "      <td>0.0000</td>\n",
       "    </tr>\n",
       "    <tr>\n",
       "      <th>3147</th>\n",
       "      <td>love thing running entire home tv light thermo...</td>\n",
       "      <td>1</td>\n",
       "      <td>0.9648</td>\n",
       "    </tr>\n",
       "    <tr>\n",
       "      <th>3148</th>\n",
       "      <td>complaint sound quality isnt great mostly use ...</td>\n",
       "      <td>1</td>\n",
       "      <td>0.5432</td>\n",
       "    </tr>\n",
       "    <tr>\n",
       "      <th>3149</th>\n",
       "      <td>good</td>\n",
       "      <td>1</td>\n",
       "      <td>0.4404</td>\n",
       "    </tr>\n",
       "  </tbody>\n",
       "</table>\n",
       "<p>3150 rows × 3 columns</p>\n",
       "</div>"
      ],
      "text/plain": [
       "                                       verified_reviews  feedback  \\\n",
       "0                                           love echo !         1   \n",
       "1                                            loved it !         1   \n",
       "2     sometimes playing game answer question correct...         1   \n",
       "3     lot fun thing 4 yr old learns dinosaur control...         1   \n",
       "4                                                 music         1   \n",
       "...                                                 ...       ...   \n",
       "3145             perfect kid adult everyone between ! !         1   \n",
       "3146  listening music searching location checking ti...         1   \n",
       "3147  love thing running entire home tv light thermo...         1   \n",
       "3148  complaint sound quality isnt great mostly use ...         1   \n",
       "3149                                               good         1   \n",
       "\n",
       "      compound_sentiment_score  \n",
       "0                       0.6696  \n",
       "1                       0.6360  \n",
       "2                       0.0516  \n",
       "3                       0.9169  \n",
       "4                       0.0000  \n",
       "...                        ...  \n",
       "3145                    0.6467  \n",
       "3146                    0.0000  \n",
       "3147                    0.9648  \n",
       "3148                    0.5432  \n",
       "3149                    0.4404  \n",
       "\n",
       "[3150 rows x 3 columns]"
      ]
     },
     "metadata": {},
     "execution_count": 593
    }
   ],
   "metadata": {}
  },
  {
   "cell_type": "code",
   "execution_count": 594,
   "source": [
    "threshold = 0\n",
    "lexicon['predicted_feedback'] = lexicon['compound_sentiment_score'].apply(lambda x: 1 if x >= threshold else 0)\n",
    "lexicon"
   ],
   "outputs": [
    {
     "output_type": "execute_result",
     "data": {
      "text/html": [
       "<div>\n",
       "<style scoped>\n",
       "    .dataframe tbody tr th:only-of-type {\n",
       "        vertical-align: middle;\n",
       "    }\n",
       "\n",
       "    .dataframe tbody tr th {\n",
       "        vertical-align: top;\n",
       "    }\n",
       "\n",
       "    .dataframe thead th {\n",
       "        text-align: right;\n",
       "    }\n",
       "</style>\n",
       "<table border=\"1\" class=\"dataframe\">\n",
       "  <thead>\n",
       "    <tr style=\"text-align: right;\">\n",
       "      <th></th>\n",
       "      <th>verified_reviews</th>\n",
       "      <th>feedback</th>\n",
       "      <th>compound_sentiment_score</th>\n",
       "      <th>predicted_feedback</th>\n",
       "    </tr>\n",
       "  </thead>\n",
       "  <tbody>\n",
       "    <tr>\n",
       "      <th>0</th>\n",
       "      <td>love echo !</td>\n",
       "      <td>1</td>\n",
       "      <td>0.6696</td>\n",
       "      <td>1</td>\n",
       "    </tr>\n",
       "    <tr>\n",
       "      <th>1</th>\n",
       "      <td>loved it !</td>\n",
       "      <td>1</td>\n",
       "      <td>0.6360</td>\n",
       "      <td>1</td>\n",
       "    </tr>\n",
       "    <tr>\n",
       "      <th>2</th>\n",
       "      <td>sometimes playing game answer question correct...</td>\n",
       "      <td>1</td>\n",
       "      <td>0.0516</td>\n",
       "      <td>1</td>\n",
       "    </tr>\n",
       "    <tr>\n",
       "      <th>3</th>\n",
       "      <td>lot fun thing 4 yr old learns dinosaur control...</td>\n",
       "      <td>1</td>\n",
       "      <td>0.9169</td>\n",
       "      <td>1</td>\n",
       "    </tr>\n",
       "    <tr>\n",
       "      <th>4</th>\n",
       "      <td>music</td>\n",
       "      <td>1</td>\n",
       "      <td>0.0000</td>\n",
       "      <td>1</td>\n",
       "    </tr>\n",
       "    <tr>\n",
       "      <th>...</th>\n",
       "      <td>...</td>\n",
       "      <td>...</td>\n",
       "      <td>...</td>\n",
       "      <td>...</td>\n",
       "    </tr>\n",
       "    <tr>\n",
       "      <th>3145</th>\n",
       "      <td>perfect kid adult everyone between ! !</td>\n",
       "      <td>1</td>\n",
       "      <td>0.6467</td>\n",
       "      <td>1</td>\n",
       "    </tr>\n",
       "    <tr>\n",
       "      <th>3146</th>\n",
       "      <td>listening music searching location checking ti...</td>\n",
       "      <td>1</td>\n",
       "      <td>0.0000</td>\n",
       "      <td>1</td>\n",
       "    </tr>\n",
       "    <tr>\n",
       "      <th>3147</th>\n",
       "      <td>love thing running entire home tv light thermo...</td>\n",
       "      <td>1</td>\n",
       "      <td>0.9648</td>\n",
       "      <td>1</td>\n",
       "    </tr>\n",
       "    <tr>\n",
       "      <th>3148</th>\n",
       "      <td>complaint sound quality isnt great mostly use ...</td>\n",
       "      <td>1</td>\n",
       "      <td>0.5432</td>\n",
       "      <td>1</td>\n",
       "    </tr>\n",
       "    <tr>\n",
       "      <th>3149</th>\n",
       "      <td>good</td>\n",
       "      <td>1</td>\n",
       "      <td>0.4404</td>\n",
       "      <td>1</td>\n",
       "    </tr>\n",
       "  </tbody>\n",
       "</table>\n",
       "<p>3150 rows × 4 columns</p>\n",
       "</div>"
      ],
      "text/plain": [
       "                                       verified_reviews  feedback  \\\n",
       "0                                           love echo !         1   \n",
       "1                                            loved it !         1   \n",
       "2     sometimes playing game answer question correct...         1   \n",
       "3     lot fun thing 4 yr old learns dinosaur control...         1   \n",
       "4                                                 music         1   \n",
       "...                                                 ...       ...   \n",
       "3145             perfect kid adult everyone between ! !         1   \n",
       "3146  listening music searching location checking ti...         1   \n",
       "3147  love thing running entire home tv light thermo...         1   \n",
       "3148  complaint sound quality isnt great mostly use ...         1   \n",
       "3149                                               good         1   \n",
       "\n",
       "      compound_sentiment_score  predicted_feedback  \n",
       "0                       0.6696                   1  \n",
       "1                       0.6360                   1  \n",
       "2                       0.0516                   1  \n",
       "3                       0.9169                   1  \n",
       "4                       0.0000                   1  \n",
       "...                        ...                 ...  \n",
       "3145                    0.6467                   1  \n",
       "3146                    0.0000                   1  \n",
       "3147                    0.9648                   1  \n",
       "3148                    0.5432                   1  \n",
       "3149                    0.4404                   1  \n",
       "\n",
       "[3150 rows x 4 columns]"
      ]
     },
     "metadata": {},
     "execution_count": 594
    }
   ],
   "metadata": {}
  },
  {
   "cell_type": "code",
   "execution_count": 595,
   "source": [
    "accuracy = accuracy_score(lexicon['feedback'], lexicon['predicted_feedback'])\n",
    "accuracy"
   ],
   "outputs": [
    {
     "output_type": "execute_result",
     "data": {
      "text/plain": [
       "0.912063492063492"
      ]
     },
     "metadata": {},
     "execution_count": 595
    }
   ],
   "metadata": {}
  },
  {
   "cell_type": "markdown",
   "source": [
    "Combining Lexicon method with machine learning"
   ],
   "metadata": {}
  },
  {
   "cell_type": "code",
   "execution_count": 596,
   "source": [
    "hybrid = lexicon[['verified_reviews', 'compound_sentiment_score', 'feedback']].copy()"
   ],
   "outputs": [],
   "metadata": {}
  },
  {
   "cell_type": "code",
   "execution_count": 597,
   "source": [
    "hybrid"
   ],
   "outputs": [
    {
     "output_type": "execute_result",
     "data": {
      "text/html": [
       "<div>\n",
       "<style scoped>\n",
       "    .dataframe tbody tr th:only-of-type {\n",
       "        vertical-align: middle;\n",
       "    }\n",
       "\n",
       "    .dataframe tbody tr th {\n",
       "        vertical-align: top;\n",
       "    }\n",
       "\n",
       "    .dataframe thead th {\n",
       "        text-align: right;\n",
       "    }\n",
       "</style>\n",
       "<table border=\"1\" class=\"dataframe\">\n",
       "  <thead>\n",
       "    <tr style=\"text-align: right;\">\n",
       "      <th></th>\n",
       "      <th>verified_reviews</th>\n",
       "      <th>compound_sentiment_score</th>\n",
       "      <th>feedback</th>\n",
       "    </tr>\n",
       "  </thead>\n",
       "  <tbody>\n",
       "    <tr>\n",
       "      <th>0</th>\n",
       "      <td>love echo !</td>\n",
       "      <td>0.6696</td>\n",
       "      <td>1</td>\n",
       "    </tr>\n",
       "    <tr>\n",
       "      <th>1</th>\n",
       "      <td>loved it !</td>\n",
       "      <td>0.6360</td>\n",
       "      <td>1</td>\n",
       "    </tr>\n",
       "    <tr>\n",
       "      <th>2</th>\n",
       "      <td>sometimes playing game answer question correct...</td>\n",
       "      <td>0.0516</td>\n",
       "      <td>1</td>\n",
       "    </tr>\n",
       "    <tr>\n",
       "      <th>3</th>\n",
       "      <td>lot fun thing 4 yr old learns dinosaur control...</td>\n",
       "      <td>0.9169</td>\n",
       "      <td>1</td>\n",
       "    </tr>\n",
       "    <tr>\n",
       "      <th>4</th>\n",
       "      <td>music</td>\n",
       "      <td>0.0000</td>\n",
       "      <td>1</td>\n",
       "    </tr>\n",
       "    <tr>\n",
       "      <th>...</th>\n",
       "      <td>...</td>\n",
       "      <td>...</td>\n",
       "      <td>...</td>\n",
       "    </tr>\n",
       "    <tr>\n",
       "      <th>3145</th>\n",
       "      <td>perfect kid adult everyone between ! !</td>\n",
       "      <td>0.6467</td>\n",
       "      <td>1</td>\n",
       "    </tr>\n",
       "    <tr>\n",
       "      <th>3146</th>\n",
       "      <td>listening music searching location checking ti...</td>\n",
       "      <td>0.0000</td>\n",
       "      <td>1</td>\n",
       "    </tr>\n",
       "    <tr>\n",
       "      <th>3147</th>\n",
       "      <td>love thing running entire home tv light thermo...</td>\n",
       "      <td>0.9648</td>\n",
       "      <td>1</td>\n",
       "    </tr>\n",
       "    <tr>\n",
       "      <th>3148</th>\n",
       "      <td>complaint sound quality isnt great mostly use ...</td>\n",
       "      <td>0.5432</td>\n",
       "      <td>1</td>\n",
       "    </tr>\n",
       "    <tr>\n",
       "      <th>3149</th>\n",
       "      <td>good</td>\n",
       "      <td>0.4404</td>\n",
       "      <td>1</td>\n",
       "    </tr>\n",
       "  </tbody>\n",
       "</table>\n",
       "<p>3150 rows × 3 columns</p>\n",
       "</div>"
      ],
      "text/plain": [
       "                                       verified_reviews  \\\n",
       "0                                           love echo !   \n",
       "1                                            loved it !   \n",
       "2     sometimes playing game answer question correct...   \n",
       "3     lot fun thing 4 yr old learns dinosaur control...   \n",
       "4                                                 music   \n",
       "...                                                 ...   \n",
       "3145             perfect kid adult everyone between ! !   \n",
       "3146  listening music searching location checking ti...   \n",
       "3147  love thing running entire home tv light thermo...   \n",
       "3148  complaint sound quality isnt great mostly use ...   \n",
       "3149                                               good   \n",
       "\n",
       "      compound_sentiment_score  feedback  \n",
       "0                       0.6696         1  \n",
       "1                       0.6360         1  \n",
       "2                       0.0516         1  \n",
       "3                       0.9169         1  \n",
       "4                       0.0000         1  \n",
       "...                        ...       ...  \n",
       "3145                    0.6467         1  \n",
       "3146                    0.0000         1  \n",
       "3147                    0.9648         1  \n",
       "3148                    0.5432         1  \n",
       "3149                    0.4404         1  \n",
       "\n",
       "[3150 rows x 3 columns]"
      ]
     },
     "metadata": {},
     "execution_count": 597
    }
   ],
   "metadata": {}
  },
  {
   "cell_type": "markdown",
   "source": [
    "Splitting the data"
   ],
   "metadata": {}
  },
  {
   "cell_type": "code",
   "execution_count": 598,
   "source": [
    "x = hybrid['verified_reviews']\n",
    "y = hybrid['feedback']"
   ],
   "outputs": [],
   "metadata": {}
  },
  {
   "cell_type": "code",
   "execution_count": 599,
   "source": [
    "x_train, x_test, y_train, y_test = train_test_split(x, y, test_size= 0.2, random_state= 100)\n",
    "x_train"
   ],
   "outputs": [
    {
     "output_type": "execute_result",
     "data": {
      "text/plain": [
       "930                                             liked 100\n",
       "1866                                     great new friend\n",
       "1235                                 easy set use thought\n",
       "2759    love it ! personally prefer spotify music grea...\n",
       "2563                                   everything big guy\n",
       "                              ...                        \n",
       "1930             great device grandkids ball setting me !\n",
       "79                                        love everything\n",
       "1859                    great product fast shipping thank\n",
       "2840                        small size work great sunroom\n",
       "1544    love it ! easy setup drop daughter soninlaw li...\n",
       "Name: verified_reviews, Length: 2520, dtype: object"
      ]
     },
     "metadata": {},
     "execution_count": 599
    }
   ],
   "metadata": {}
  },
  {
   "cell_type": "markdown",
   "source": [
    "Vectorize the reviews which would turn the text into numerical values and combine it with compound_sentiment_score "
   ],
   "metadata": {}
  },
  {
   "cell_type": "code",
   "execution_count": 600,
   "source": [
    "vectorizer = TfidfVectorizer(min_df = 1)"
   ],
   "outputs": [],
   "metadata": {}
  },
  {
   "cell_type": "code",
   "execution_count": 601,
   "source": [
    "x_train_vectorizer = vectorizer.fit_transform(x_train)\n",
    "x_test_vectorizer = vectorizer.transform(x_test)\n",
    "print(x_train_vectorizer)"
   ],
   "outputs": [
    {
     "output_type": "stream",
     "name": "stdout",
     "text": [
      "  (0, 2)\t0.7267654862396732\n",
      "  (0, 1905)\t0.6868856731733536\n",
      "  (1, 1354)\t0.7488881912086198\n",
      "  (1, 2157)\t0.5612286082053525\n",
      "  (1, 1461)\t0.3524044925936168\n",
      "  (2, 3285)\t0.6639410805772201\n",
      "  (2, 3469)\t0.40615451747966813\n",
      "  (2, 2861)\t0.4521297922566836\n",
      "  (2, 1072)\t0.4356597300723805\n",
      "  (3, 1518)\t0.20487687272234972\n",
      "  (3, 2120)\t0.1574111842703991\n",
      "  (3, 384)\t0.1559788838280952\n",
      "  (3, 3543)\t0.19725585669942855\n",
      "  (3, 3091)\t0.15209519578208577\n",
      "  (3, 1029)\t0.1574111842703991\n",
      "  (3, 1939)\t0.16815240307243523\n",
      "  (3, 409)\t0.20487687272234972\n",
      "  (3, 1020)\t0.11856629483728709\n",
      "  (3, 566)\t0.20487687272234972\n",
      "  (3, 1960)\t0.11789559812452666\n",
      "  (3, 1529)\t0.19725585669942855\n",
      "  (3, 3621)\t0.1913445374243557\n",
      "  (3, 3628)\t0.07566018616753512\n",
      "  (3, 1790)\t0.1913445374243557\n",
      "  (3, 659)\t0.19725585669942855\n",
      "  :\t:\n",
      "  (2516, 1965)\t0.4698325336136934\n",
      "  (2517, 2880)\t0.6079346248975462\n",
      "  (2517, 3255)\t0.5084049450538952\n",
      "  (2517, 1265)\t0.4813217565837088\n",
      "  (2517, 2502)\t0.30260381961936506\n",
      "  (2517, 1461)\t0.2206812150736201\n",
      "  (2518, 3161)\t0.6946023610594781\n",
      "  (2518, 2959)\t0.44191906558831767\n",
      "  (2518, 2939)\t0.4513819009114231\n",
      "  (2518, 3628)\t0.2565137941235109\n",
      "  (2518, 1461)\t0.22954335632750889\n",
      "  (2519, 1964)\t0.3230586935592742\n",
      "  (2519, 3078)\t0.3230586935592742\n",
      "  (2519, 3001)\t0.3230586935592742\n",
      "  (2519, 299)\t0.2955467183282514\n",
      "  (2519, 1180)\t0.2519412692663111\n",
      "  (2519, 2741)\t0.21060451711306893\n",
      "  (2519, 2096)\t0.2487642629209064\n",
      "  (2519, 870)\t0.21975432160447592\n",
      "  (2519, 1925)\t0.24052276786620594\n",
      "  (2519, 1051)\t0.46333178018698895\n",
      "  (2519, 2866)\t0.18368057323324785\n",
      "  (2519, 1767)\t0.1579868421731377\n",
      "  (2519, 1965)\t0.18258647855858753\n",
      "  (2519, 1072)\t0.1303201244840073\n"
     ]
    }
   ],
   "metadata": {}
  },
  {
   "cell_type": "code",
   "execution_count": 602,
   "source": [
    "train_scores = hybrid.loc[x_train.index, 'compound_sentiment_score']\n",
    "test_scores = hybrid.loc[x_test.index, 'compound_sentiment_score']\n",
    "\n",
    "train_scores_array = np.array(train_scores).reshape(-1, 1)\n",
    "test_scores_array = np.array(test_scores).reshape(-1, 1)\n",
    "\n",
    "x_train_combined = hstack([x_train_vectorizer, train_scores_array])\n",
    "x_test_combined = hstack([x_test_vectorizer, test_scores_array])"
   ],
   "outputs": [],
   "metadata": {}
  },
  {
   "cell_type": "code",
   "execution_count": 603,
   "source": [
    "model = LogisticRegression()\n",
    "model.fit(x_train_combined, y_train)"
   ],
   "outputs": [
    {
     "output_type": "execute_result",
     "data": {
      "text/plain": [
       "LogisticRegression()"
      ]
     },
     "metadata": {},
     "execution_count": 603
    }
   ],
   "metadata": {}
  },
  {
   "cell_type": "markdown",
   "source": [
    "Accuracy on the Lexicon Based Approach with Machine Learning"
   ],
   "metadata": {}
  },
  {
   "cell_type": "code",
   "execution_count": 604,
   "source": [
    "y_pred = model.predict(x_test_combined)\n",
    "accuracy = accuracy_score(y_test, y_pred)\n",
    "accuracy"
   ],
   "outputs": [
    {
     "output_type": "execute_result",
     "data": {
      "text/plain": [
       "0.9301587301587302"
      ]
     },
     "metadata": {},
     "execution_count": 604
    }
   ],
   "metadata": {}
  },
  {
   "cell_type": "markdown",
   "source": [
    "Logistic Regression model from the original dataframe"
   ],
   "metadata": {}
  },
  {
   "cell_type": "code",
   "execution_count": 605,
   "source": [
    "x = df['verified_reviews']\n",
    "y = df['feedback']"
   ],
   "outputs": [],
   "metadata": {}
  },
  {
   "cell_type": "code",
   "execution_count": 606,
   "source": [
    "x_train, x_test, y_train, y_test = train_test_split(x, y, test_size=0.2, random_state=100)\n",
    "x_train"
   ],
   "outputs": [
    {
     "output_type": "execute_result",
     "data": {
      "text/plain": [
       "930                                            Liked 100%\n",
       "1866                         Is great having a new friend\n",
       "1235    It was easy set up.  I use it more than I thou...\n",
       "2759    Love it! I personally prefer Spotify music, so...\n",
       "2563                 It does everything  the big guy does\n",
       "                              ...                        \n",
       "1930    Great device, my grandkids had a ball setting ...\n",
       "79                          I love it. It does everything\n",
       "1859           Great product and fast shipping. Thank you\n",
       "2840               Small size works great in our sunroom.\n",
       "1544    Love it! Easy setup and I can ‘Drop in’ on my ...\n",
       "Name: verified_reviews, Length: 2520, dtype: object"
      ]
     },
     "metadata": {},
     "execution_count": 606
    }
   ],
   "metadata": {}
  },
  {
   "cell_type": "code",
   "execution_count": 607,
   "source": [
    "vectorizer = TfidfVectorizer(min_df=1, stop_words='english', lowercase=True)\n",
    "x_train_vectorized = vectorizer.fit_transform(x_train)\n",
    "x_test_vectorized = vectorizer.transform(x_test)"
   ],
   "outputs": [],
   "metadata": {}
  },
  {
   "cell_type": "code",
   "execution_count": 608,
   "source": [
    "model = LogisticRegression()\n",
    "model.fit(x_train_vectorized, y_train)"
   ],
   "outputs": [
    {
     "output_type": "execute_result",
     "data": {
      "text/plain": [
       "LogisticRegression()"
      ]
     },
     "metadata": {},
     "execution_count": 608
    }
   ],
   "metadata": {}
  },
  {
   "cell_type": "code",
   "execution_count": 609,
   "source": [
    "y_pred = model.predict(x_test_vectorized)\n",
    "accuracy = accuracy_score(y_test, y_pred)\n",
    "accuracy"
   ],
   "outputs": [
    {
     "output_type": "execute_result",
     "data": {
      "text/plain": [
       "0.9158730158730158"
      ]
     },
     "metadata": {},
     "execution_count": 609
    }
   ],
   "metadata": {}
  }
 ],
 "metadata": {
  "orig_nbformat": 4,
  "language_info": {
   "name": "python",
   "version": "3.9.12",
   "mimetype": "text/x-python",
   "codemirror_mode": {
    "name": "ipython",
    "version": 3
   },
   "pygments_lexer": "ipython3",
   "nbconvert_exporter": "python",
   "file_extension": ".py"
  },
  "kernelspec": {
   "name": "python3",
   "display_name": "Python 3.9.12 64-bit ('base': conda)"
  },
  "interpreter": {
   "hash": "3283bf7323ca6e260a04222f6b4b6d193a35140d9480528b73f7fd2b5c72286d"
  }
 },
 "nbformat": 4,
 "nbformat_minor": 2
}